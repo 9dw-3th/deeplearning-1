{
 "cells": [
  {
   "cell_type": "code",
   "execution_count": 8,
   "metadata": {},
   "outputs": [
    {
     "name": "stdout",
     "output_type": "stream",
     "text": [
      "([0, 1, 1, 1], [-0.5, 0.5, 0.5, 1.5])\n",
      "([1, 1, 1, 0], [1.5, 0.5, 0.5, -0.5])\n"
     ]
    },
    {
     "data": {
      "text/plain": [
       "2"
      ]
     },
     "execution_count": 8,
     "metadata": {},
     "output_type": "execute_result"
    }
   ],
   "source": [
    "import matplotlib.pyplot as plt\n",
    "import numpy as np\n",
    "\n",
    "class Perceptron:\n",
    "    #教師データを保存\n",
    "    def __init__(self, correctSet):\n",
    "        self.correctSet = correctSet\n",
    "\n",
    "    #パラメータをセットする\n",
    "    #拡張特徴ベクトル\n",
    "    def setParameter(self, w):\n",
    "        self.w = w\n",
    "\n",
    "    #単層パーセプトロン\n",
    "    def singlePerseptron(self, xi):\n",
    "        #重み付け和計算\n",
    "        tmp = np.sum(self.w * xi)\n",
    "        #分類\n",
    "        if tmp <= 0:\n",
    "            return 0, tmp\n",
    "        else:\n",
    "            return 1, tmp\n",
    "\n",
    "    def Compute(self, trainingSet1, trainingSet2):\n",
    "        Y_class = []\n",
    "        Y_value = []\n",
    "        for xi in range(len(trainingSet1)):\n",
    "            y, dotvalue = self.singlePerseptron(trainingSet1[xi])\n",
    "            Y_class.append(y)\n",
    "            Y_value.append(dotvalue)\n",
    "\n",
    "        return Y_class, Y_value\n",
    "\n",
    "    def Test(self, trainingSet1, trainingSet2):\n",
    "        y_class, y_value = self.Compute(trainingSet1, trainingSet2)\n",
    "        for xi in range(len(y_class)):\n",
    "            if self.correctSet[xi] != y_class[xi]:\n",
    "                print(\"パラメータを再設定してください！\")\n",
    "            else:\n",
    "                print(str(trainingSet2[xi]) + \" -> \" + str(y_class[xi]))\n",
    "        return y_value\n",
    "\n",
    "    def plot(self):\n",
    "        fig = plt.figure()\n",
    "        ax = fig.add_subplot(1,1,1)\n",
    "\n",
    "        #訓練データ\n",
    "        for xi in range(len(trainingSet)):\n",
    "            if self.correctSet[xi] == 1:\n",
    "                ax.scatter(trainingSet[xi][1],trainingSet[xi][2], c='red')\n",
    "            else:\n",
    "                ax.scatter(trainingSet[xi][1],trainingSet[xi][2], c='blue')\n",
    "\n",
    "        #連続関数のプロット用ベクトル\n",
    "        xs = np.linspace(-0.25, 1.25, 500)\n",
    "        xs0 = np.ones((500, 1))\n",
    "        XS = []\n",
    "        for i in range(len(xs0)):\n",
    "             XS.append(np.append(xs0[i], xs[i]))\n",
    "        #連続関数\n",
    "        f_real = []\n",
    "        for i in range(len(XS)):\n",
    "            w0x0 = self.w[0]*XS[i][0]\n",
    "            w1x1 = self.w[1]*XS[i][1]\n",
    "            f_real.append((-w0x0-w1x1)/self.w[-1])\n",
    "        ax.scatter(xs, f_real, c='green')\n",
    "\n",
    "        ax.set_title('Original Sample Space')\n",
    "        ax.set_xlabel('x1')\n",
    "        ax.set_ylabel('x2')\n",
    "        #plt.savefig('result.png')\n",
    "        plt.show()\n",
    "\n",
    "##############################訓練セット : X = (x0, x1, x2)######################\n",
    "trainingSet = np.array([(1, 0, 0), (1, 1, 0), (1, 0, 1), (1, 1, 1)])\n",
    "correctSet_AND = np.array([0, 0, 0, 1])\n",
    "correctSet_OR = np.array([0, 1, 1, 1])\n",
    "correctSet_NAND = np.array([1, 1, 1, 0])\n",
    "correctSet_XOR = np.array([0, 1, 1, 0])\n",
    "\n",
    "##############################インスタンス生成#####################################\n",
    "classifier_AND = Perceptron(correctSet_AND)\n",
    "classifier_OR = Perceptron(correctSet_OR)\n",
    "classifier_NAND = Perceptron(correctSet_NAND)\n",
    "classifier_XOR = Perceptron(correctSet_XOR)\n",
    "\n",
    "##############################パラメータセット：W = (w0, w1, w2)###################\n",
    "parameterSet_AND = np.array([-1.5, 1.0, 1.0]) #np.array([-0.7, 0.5, 0.5])\n",
    "parameterSet_OR = np.array([-0.5, 1.0, 1.0]) #np.array([-0.2, 0.5, 0.5])\n",
    "parameterSet_NAND = np.array([1.5, -1.0, -1.0]) #np.array([0.7, -0.5, -0.5])\n",
    "\n",
    "classifier_AND.setParameter(parameterSet_AND)\n",
    "classifier_OR.setParameter(parameterSet_OR)\n",
    "classifier_NAND.setParameter(parameterSet_NAND)\n",
    "\n",
    "classifier_XOR.setParameter(parameterSet_AND.w)\n",
    "##############################テスト#############################################\n",
    "###############単層パーセプトロン\n",
    "#s1 = classifier_AND.Test(trainingSet)\n",
    "s2 = classifier_OR.Compute(trainingSet, trainingSet)\n",
    "s3 = classifier_NAND.Compute(trainingSet, trainingSet)"
   ]
  },
  {
   "cell_type": "code",
   "execution_count": 17,
   "metadata": {},
   "outputs": [
    {
     "name": "stdout",
     "output_type": "stream",
     "text": [
      "[[ 1.  -0.5  1.5]\n",
      " [ 1.   0.5  0.5]\n",
      " [ 1.   0.5  0.5]\n",
      " [ 1.   1.5 -0.5]]\n",
      "[1 0 0] -> 0\n",
      "パラメータを再設定してください！\n",
      "パラメータを再設定してください！\n",
      "[1 1 1] -> 0\n"
     ]
    },
    {
     "data": {
      "text/plain": [
       "[-0.5, -0.5, -0.5, -0.5]"
      ]
     },
     "execution_count": 17,
     "metadata": {},
     "output_type": "execute_result"
    }
   ],
   "source": [
    "###############多層パーセプトロン\n",
    "S = np.ones((len(s2[1]), len(classifier_XOR.w)))\n",
    "for i in range(len(S)):\n",
    "    S[i][1] = s2[1][i]\n",
    "    S[i][2] = s3[1][i]\n",
    "print(S)\n",
    "classifier_XOR.Test(S, trainingSet)\n",
    "\n",
    "##############################曲線描画###########################################\n",
    "###############単層パーセプトロン\n",
    "#classifier_AND.plot()\n",
    "#classifier_OR.plot()\n",
    "#classifier_NAND.plot()\n",
    "#classifier_XOR.plot()"
   ]
  }
 ],
 "metadata": {
  "kernelspec": {
   "display_name": "Python 3",
   "language": "python",
   "name": "python3"
  },
  "language_info": {
   "codemirror_mode": {
    "name": "ipython",
    "version": 3
   },
   "file_extension": ".py",
   "mimetype": "text/x-python",
   "name": "python",
   "nbconvert_exporter": "python",
   "pygments_lexer": "ipython3",
   "version": "3.6.1"
  }
 },
 "nbformat": 4,
 "nbformat_minor": 2
}
